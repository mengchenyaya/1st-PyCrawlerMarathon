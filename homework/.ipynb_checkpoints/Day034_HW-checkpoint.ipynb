{
 "cells": [
  {
   "cell_type": "markdown",
   "metadata": {
    "colab_type": "text",
    "id": "I8CoX4R7VoCd"
   },
   "source": [
    "# 反爬：代理伺服器/IP\n",
    "\n",
    "* 了解「IP 黑/白名單」的反爬蟲機制\n",
    "* 「IP 黑/白名單」反爬蟲的因應策略"
   ]
  },
  {
   "cell_type": "markdown",
   "metadata": {
    "colab_type": "text",
    "id": "n-3DZ_r5VoCe"
   },
   "source": [
    "## 作業目標\n",
    "\n",
    "* 目前程式中的 proxy_ips 是手動輸入的，請根據 https://free-proxy-list.net/ 寫一個可自動化抓取可用 Proxy 的 proxy_ips。\n",
    "\n",
    "\n"
   ]
  },
  {
   "cell_type": "code",
   "execution_count": 60,
   "metadata": {},
   "outputs": [],
   "source": [
    "import requests\n",
    "from bs4 import BeautifulSoup\n",
    "import pandas as pd\n",
    "import random"
   ]
  },
  {
   "cell_type": "code",
   "execution_count": null,
   "metadata": {},
   "outputs": [],
   "source": [
    "# headers = {\n",
    "    \n",
    "#     'authority': 'free-proxy-list.net',\n",
    "#     'method': 'GET',\n",
    "#     'path': '/',\n",
    "#     'scheme': 'https',\n",
    "#     'accept': 'text/html,application/xhtml+xml,application/xml;q=0.9,image/webp,image/apng,*/*;q=0.8,application/signed-exchange;v=b3;q=0.9',\n",
    "#     'accept-encoding': 'gzip, deflate, br',\n",
    "#     'accept-language': 'en-US,en;q=0.9,zh-TW;q=0.8,zh;q=0.7,zh-CN;q=0.6,ja;q=0.5',\n",
    "#     'cache-control': 'max-age=0',\n",
    "#     'sec-fetch-mode': 'navigate',\n",
    "#     'sec-fetch-site': 'none',\n",
    "#     'sec-fetch-user': '?1',\n",
    "#     'if-modified-since': 'Sat, 01 Feb 2020 02:12:01 GMT',\n",
    "#     'upgrade-insecure-requests': '1',\n",
    "#     'user-agent': 'Mozilla/5.0 (Macintosh; Intel Mac OS X 10_14_6) AppleWebKit/537.36 (KHTML, like Gecko) Chrome/79.0.3945.79 Safari/537.36'\n",
    "# }"
   ]
  },
  {
   "cell_type": "code",
   "execution_count": 74,
   "metadata": {
    "colab": {},
    "colab_type": "code",
    "id": "iny-9heBVoCf"
   },
   "outputs": [],
   "source": [
    "url = 'https://free-proxy-list.net/'\n",
    "res = requests.get(url)\n",
    "df = pd.read_html(res.text)[0]"
   ]
  },
  {
   "cell_type": "code",
   "execution_count": 97,
   "metadata": {},
   "outputs": [
    {
     "data": {
      "text/plain": [
       "0      181.196.242.126:53281\n",
       "1         125.26.7.124:61642\n",
       "2         95.79.57.206:53281\n",
       "3        170.245.64.26:45262\n",
       "4       186.225.63.134:38459\n",
       "               ...          \n",
       "295          46.8.28.17:8080\n",
       "296       195.209.176.2:8080\n",
       "297      112.78.143.26:52443\n",
       "298    178.213.130.101:52658\n",
       "299      190.152.0.130:55870\n",
       "Length: 300, dtype: object"
      ]
     },
     "execution_count": 97,
     "metadata": {},
     "output_type": "execute_result"
    }
   ],
   "source": [
    "df.dropna(inplace=True)\n",
    "df['Port']= df['Port'].apply(lambda x : str(int(x)))\n",
    "proxy_ips =df['IP Address']+':'+df['Port']\n",
    "proxy_ips"
   ]
  },
  {
   "cell_type": "code",
   "execution_count": 98,
   "metadata": {
    "colab": {},
    "colab_type": "code",
    "id": "75dIsHjiVoCi"
   },
   "outputs": [
    {
     "name": "stdout",
     "output_type": "stream",
     "text": [
      "Use 167.179.85.238:8118\n",
      "Fail\n",
      "Use 176.9.9.113:8118\n",
      "Fail\n",
      "Use 125.26.99.186:52680\n",
      "Your IP address: 125.26.99.186\n",
      "Use 95.79.57.206:53281\n",
      "Your IP address: 95.79.57.206\n",
      "Use 190.208.45.221:3129\n",
      "Fail\n",
      "Use 196.202.81.124:8080\n",
      "Fail\n",
      "Use 91.135.194.22:56828\n",
      "Your IP address: 91.135.194.22\n",
      "Use 95.158.63.46:49756\n",
      "Your IP address: 95.158.63.46\n",
      "Use 191.6.38.170:80\n",
      "Fail\n",
      "Use 1.10.188.140:43327\n",
      "Fail\n"
     ]
    }
   ],
   "source": [
    "\n",
    "\n",
    "for i in range(10):\n",
    "    ip = random.choice(proxy_ips)\n",
    "    print('Use', ip)\n",
    "    try:\n",
    "        resp = requests.get('http://ip.filefab.com/index.php',\n",
    "                        proxies={'http': ip, 'https': ip}, timeout=10)\n",
    "        soup = BeautifulSoup(resp.text, 'html5lib')\n",
    "        print(soup.find('h1', id='ipd').text.strip())\n",
    "    except:\n",
    "        print('Fail')"
   ]
  }
 ],
 "metadata": {
  "colab": {
   "name": "homework.ipynb",
   "provenance": []
  },
  "kernelspec": {
   "display_name": "Python 3",
   "language": "python",
   "name": "python3"
  },
  "language_info": {
   "codemirror_mode": {
    "name": "ipython",
    "version": 3
   },
   "file_extension": ".py",
   "mimetype": "text/x-python",
   "name": "python",
   "nbconvert_exporter": "python",
   "pygments_lexer": "ipython3",
   "version": "3.6.8"
  }
 },
 "nbformat": 4,
 "nbformat_minor": 1
}
