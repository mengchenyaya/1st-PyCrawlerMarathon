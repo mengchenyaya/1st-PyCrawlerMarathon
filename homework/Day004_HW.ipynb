{
 "cells": [
  {
   "cell_type": "markdown",
   "metadata": {
    "colab_type": "text",
    "id": "uSf0mVenUdOf"
   },
   "source": [
    "# 利用 Python 存取 API\n",
    "\n",
    "\n",
    "* 了解 Server Client 的架構與溝通方法\n",
    "* 知道 HTTP Request & Response 的內容\n",
    "* 什麼是 API？如何用 Python 程式存取 API 資料\n"
   ]
  },
  {
   "cell_type": "markdown",
   "metadata": {
    "colab_type": "text",
    "id": "FwvxVPZuUdOh"
   },
   "source": [
    "## 作業目標\n",
    "\n",
    "* 比較一下範例檔案中的「r.text」與「json.loads(r.text)」讀出來的內容有什麼差異\n",
    "* 自行尋找一個合適的 API 接口做練習，並且查看其回傳內容\n",
    "    * https://cat-fact.herokuapp.com/facts (來源：https://alexwohlbruck.github.io/cat-facts/)\n",
    "    * http://odata.wra.gov.tw/v4/RealtimeWaterLevel (來源：https://data.gov.tw/dataset/25768)\n",
    "\n"
   ]
  },
  {
   "cell_type": "markdown",
   "metadata": {
    "colab_type": "text",
    "id": "r5GIjwYuUdOi"
   },
   "source": [
    "### 比較一下範例檔案中的「r.text」與「json.loads(r.text)」讀出來的內容有什麼差異"
   ]
  },
  {
   "cell_type": "markdown",
   "metadata": {
    "colab": {},
    "colab_type": "code",
    "id": "sVxW3MTeUdOj",
    "outputId": "a83e3e3b-eb9d-4c6d-d5d2-3a2ef30cee87"
   },
   "source": [
    "1. r.text : 讀出來會是字串型態\n",
    "2. json.loads(r.text) : 讀出來會是list裡面包著dictionary"
   ]
  },
  {
   "cell_type": "markdown",
   "metadata": {
    "colab_type": "text",
    "id": "eJwMGD6XUdOn"
   },
   "source": [
    "### 自行尋找一個合適的 API 接口做練習，並且查看其回傳內容\n",
    "\n",
    "* https://cat-fact.herokuapp.com/facts (來源：https://alexwohlbruck.github.io/cat-facts/)\n",
    "* http://odata.wra.gov.tw/v4/RealtimeWaterLevel (來源：https://data.gov.tw/dataset/25768)\n"
   ]
  },
  {
   "cell_type": "code",
   "execution_count": 2,
   "metadata": {},
   "outputs": [],
   "source": [
    "import requests\n",
    "import json"
   ]
  },
  {
   "cell_type": "markdown",
   "metadata": {},
   "source": [
    "# FRED SERIES API : https://research.stlouisfed.org/docs/api/fred/series.html"
   ]
  },
  {
   "cell_type": "code",
   "execution_count": 42,
   "metadata": {
    "colab": {},
    "colab_type": "code",
    "id": "XDvzxwA0UdOn",
    "outputId": "154b29e6-cd0d-48b9-e659-6e9a3f55e274",
    "scrolled": true
   },
   "outputs": [
    {
     "name": "stdout",
     "output_type": "stream",
     "text": [
      "https://api.stlouisfed.org/fred/series?series_id=UNRATE&api_key=eac3e8683f987cf54b682aebda7f06bf&file_type=json&realtime_start=1995-01-01&realtime_end=9999-12-31\n"
     ]
    }
   ],
   "source": [
    "apikeys = 'eac3e8683f987cf54b682aebda7f06bf'\n",
    "series_id = 'UNRATE'  # Unemployment Rate \n",
    "file_type = 'json'\n",
    "realtime_start='1995-01-01'\n",
    "realtime_end ='9999-12-31'\n",
    "\n",
    "url = f'https://api.stlouisfed.org/fred/series?series_id={series_id}&api_key={apikeys}&file_type={file_type}&realtime_start={realtime_start}&realtime_end={realtime_end}'\n",
    "res = requests.get(url)\n",
    "print(url)\n"
   ]
  },
  {
   "cell_type": "code",
   "execution_count": 43,
   "metadata": {
    "colab": {},
    "colab_type": "code",
    "id": "H5EyeQRIUdOr"
   },
   "outputs": [
    {
     "data": {
      "text/plain": [
       "{'realtime_start': '1995-01-01',\n",
       " 'realtime_end': '9999-12-31',\n",
       " 'seriess': [{'id': 'UNRATE',\n",
       "   'realtime_start': '1995-01-01',\n",
       "   'realtime_end': '2012-02-02',\n",
       "   'title': 'Civilian Unemployment Rate',\n",
       "   'observation_start': '1948-01-01',\n",
       "   'observation_end': '2011-12-01',\n",
       "   'frequency': 'Monthly',\n",
       "   'frequency_short': 'M',\n",
       "   'units': 'Percent',\n",
       "   'units_short': '%',\n",
       "   'seasonal_adjustment': 'Seasonally Adjusted',\n",
       "   'seasonal_adjustment_short': 'SA',\n",
       "   'last_updated': '2012-01-06 09:14:51-06',\n",
       "   'popularity': 95,\n",
       "   'notes': 'Persons 16 years of age and older.\\n\\nThe Bureau of Labor Statistics (BLS) announced several revisions to the Household Survey on Friday Feb.7th 2003, with the release of the January 2003 Data. They introduced the Census 2000 population controls (which affect data back to 2000 and cause a break in the data in January 2000), a new seasonal adjustment procedure, and new seasonal factors back to January 1998. For further information contact the Current Employment Statistics (CES) homepage at www.bls.gov/ces or by calling 202-691-6555.'},\n",
       "  {'id': 'UNRATE',\n",
       "   'realtime_start': '2012-02-03',\n",
       "   'realtime_end': '2019-09-05',\n",
       "   'title': 'Civilian Unemployment Rate',\n",
       "   'observation_start': '1948-01-01',\n",
       "   'observation_end': '2019-07-01',\n",
       "   'frequency': 'Monthly',\n",
       "   'frequency_short': 'M',\n",
       "   'units': 'Percent',\n",
       "   'units_short': '%',\n",
       "   'seasonal_adjustment': 'Seasonally Adjusted',\n",
       "   'seasonal_adjustment_short': 'SA',\n",
       "   'last_updated': '2019-08-02 08:02:02-05',\n",
       "   'popularity': 95,\n",
       "   'notes': \"The unemployment rate represents the number of unemployed as a percentage of the labor force. Labor force data are restricted to people 16 years of age and older, who currently reside in 1 of the 50 states or the District of Columbia, who do not reside in institutions (e.g., penal and mental facilities, homes for the aged), and who are not on active duty in the Armed Forces.\\n\\nThis rate is also defined as the U-3 measure of labor underutilization.\\n\\nThe series comes from the 'Current Population Survey (Household Survey)'\\n\\nThe source code is: LNS14000000\"},\n",
       "  {'id': 'UNRATE',\n",
       "   'realtime_start': '2019-09-06',\n",
       "   'realtime_end': '9999-12-31',\n",
       "   'title': 'Unemployment Rate',\n",
       "   'observation_start': '1948-01-01',\n",
       "   'observation_end': '2019-10-01',\n",
       "   'frequency': 'Monthly',\n",
       "   'frequency_short': 'M',\n",
       "   'units': 'Percent',\n",
       "   'units_short': '%',\n",
       "   'seasonal_adjustment': 'Seasonally Adjusted',\n",
       "   'seasonal_adjustment_short': 'SA',\n",
       "   'last_updated': '2019-11-01 09:59:01-05',\n",
       "   'popularity': 95,\n",
       "   'notes': \"The unemployment rate represents the number of unemployed as a percentage of the labor force. Labor force data are restricted to people 16 years of age and older, who currently reside in 1 of the 50 states or the District of Columbia, who do not reside in institutions (e.g., penal and mental facilities, homes for the aged), and who are not on active duty in the Armed Forces.\\r\\n\\r\\nThis rate is also defined as the U-3 measure of labor underutilization.\\r\\n\\r\\nThe series comes from the 'Current Population Survey (Household Survey)'\\r\\n\\r\\nThe source code is: LNS14000000\"}]}"
      ]
     },
     "execution_count": 43,
     "metadata": {},
     "output_type": "execute_result"
    }
   ],
   "source": [
    "json.loads(res.text)\n"
   ]
  }
 ],
 "metadata": {
  "colab": {
   "name": "homework.ipynb",
   "provenance": []
  },
  "kernelspec": {
   "display_name": "Python 3",
   "language": "python",
   "name": "python3"
  },
  "language_info": {
   "codemirror_mode": {
    "name": "ipython",
    "version": 3
   },
   "file_extension": ".py",
   "mimetype": "text/x-python",
   "name": "python",
   "nbconvert_exporter": "python",
   "pygments_lexer": "ipython3",
   "version": "3.6.8"
  }
 },
 "nbformat": 4,
 "nbformat_minor": 1
}
